{
 "cells": [
  {
   "cell_type": "code",
   "execution_count": 2,
   "metadata": {
    "collapsed": true
   },
   "outputs": [],
   "source": [
    "import numpy as np\n",
    "import matplotlib.pyplot as plt\n",
    "import pandas as pd\n",
    "import os"
   ]
  },
  {
   "cell_type": "code",
   "execution_count": 3,
   "metadata": {},
   "outputs": [
    {
     "data": {
      "text/html": [
       "<div>\n",
       "<style>\n",
       "    .dataframe thead tr:only-child th {\n",
       "        text-align: right;\n",
       "    }\n",
       "\n",
       "    .dataframe thead th {\n",
       "        text-align: left;\n",
       "    }\n",
       "\n",
       "    .dataframe tbody tr th {\n",
       "        vertical-align: top;\n",
       "    }\n",
       "</style>\n",
       "<table border=\"1\" class=\"dataframe\">\n",
       "  <thead>\n",
       "    <tr style=\"text-align: right;\">\n",
       "      <th></th>\n",
       "      <th>Year</th>\n",
       "      <th>ASSAULT</th>\n",
       "      <th>DRUG/NARCOTIC</th>\n",
       "      <th>LARCENY/THEFT</th>\n",
       "      <th>VEHICLE THEFT</th>\n",
       "    </tr>\n",
       "  </thead>\n",
       "  <tbody>\n",
       "    <tr>\n",
       "      <th>0</th>\n",
       "      <td>2003</td>\n",
       "      <td>13461</td>\n",
       "      <td>9917</td>\n",
       "      <td>26393</td>\n",
       "      <td>15325</td>\n",
       "    </tr>\n",
       "    <tr>\n",
       "      <th>1</th>\n",
       "      <td>2004</td>\n",
       "      <td>12899</td>\n",
       "      <td>9897</td>\n",
       "      <td>24505</td>\n",
       "      <td>17884</td>\n",
       "    </tr>\n",
       "    <tr>\n",
       "      <th>2</th>\n",
       "      <td>2005</td>\n",
       "      <td>11601</td>\n",
       "      <td>8533</td>\n",
       "      <td>25319</td>\n",
       "      <td>18194</td>\n",
       "    </tr>\n",
       "    <tr>\n",
       "      <th>3</th>\n",
       "      <td>2006</td>\n",
       "      <td>12449</td>\n",
       "      <td>9069</td>\n",
       "      <td>27352</td>\n",
       "      <td>7291</td>\n",
       "    </tr>\n",
       "    <tr>\n",
       "      <th>4</th>\n",
       "      <td>2007</td>\n",
       "      <td>12518</td>\n",
       "      <td>10560</td>\n",
       "      <td>25770</td>\n",
       "      <td>6460</td>\n",
       "    </tr>\n",
       "  </tbody>\n",
       "</table>\n",
       "</div>"
      ],
      "text/plain": [
       "   Year  ASSAULT  DRUG/NARCOTIC  LARCENY/THEFT  VEHICLE THEFT\n",
       "0  2003    13461           9917          26393          15325\n",
       "1  2004    12899           9897          24505          17884\n",
       "2  2005    11601           8533          25319          18194\n",
       "3  2006    12449           9069          27352           7291\n",
       "4  2007    12518          10560          25770           6460"
      ]
     },
     "execution_count": 3,
     "metadata": {},
     "output_type": "execute_result"
    }
   ],
   "source": [
    "file = os.path.join('..', 'csv_files', 'total_crimes_by_category.csv')\n",
    "df = pd.DataFrame(pd.read_csv(file))\n",
    "df.head()"
   ]
  },
  {
   "cell_type": "code",
   "execution_count": 3,
   "metadata": {},
   "outputs": [
    {
     "data": {
      "image/png": "[encoded data removed]",
      "text/plain": [
       "<matplotlib.figure.Figure at 0x10d782c50>"
      ]
     },
     "metadata": {},
     "output_type": "display_data"
    }
   ],
   "source": [
    "year = df[\"Year\"]\n",
    "assault = df[\"ASSAULT\"]\n",
    "drug_narcotic = df[\"DRUG/NARCOTIC\"]\n",
    "larceny_theft = df[\"LARCENY/THEFT\"]\n",
    "vehicle_theft = df[\"VEHICLE THEFT\"]\n",
    "\n",
    "fig, ax1 = plt.subplots()\n",
    "ax1.plot(year, assault, color = \"red\", label=\"Assault\")\n",
    "ax1.plot(year, drug_narcotic, color = \"c\", label=\"Drug/Narcotic\")\n",
    "ax1.plot(year, larceny_theft, color = \"y\", label=\"Larceny/Theft\")\n",
    "ax1.plot(year, vehicle_theft, color = \"m\", label=\"Vehicle Theft\")\n",
    "\n",
    "ax1.set_xlabel(\"Year\")\n",
    "ax1.set_ylabel(\"Number of Crimes per Year\")\n",
    "\n",
    "\n",
    "fig.tight_layout()\n",
    "plt.legend()\n",
    "plt.savefig(\"crime_plot_by_category.png\")\n",
    "plt.show()\n"
   ]
  },
  {
   "cell_type": "code",
   "execution_count": null,
   "metadata": {
    "collapsed": true
   },
   "outputs": [],
   "source": []
  }
 ],
 "metadata": {
  "kernelspec": {
   "display_name": "Python [default]",
   "language": "python",
   "name": "python3"
  },
  "language_info": {
   "codemirror_mode": {
    "name": "ipython",
    "version": 3
   },
   "file_extension": ".py",
   "mimetype": "text/x-python",
   "name": "python",
   "nbconvert_exporter": "python",
   "pygments_lexer": "ipython3",
   "version": "3.6.3"
  }
 },
 "nbformat": 4,
 "nbformat_minor": 2
}
